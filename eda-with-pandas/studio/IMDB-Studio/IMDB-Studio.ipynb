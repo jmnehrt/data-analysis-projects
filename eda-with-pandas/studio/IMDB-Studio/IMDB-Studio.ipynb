{
 "cells": [
  {
   "cell_type": "markdown",
   "id": "2f470e67-1623-4416-b9c2-8367f7834a26",
   "metadata": {},
   "source": [
    "# Exploratory Data Analysis with pandas Studio\n",
    "\n",
    "## Data Analysis of IMDB movies data\n",
    "\n",
    "#### Blocks have been created for your code\n",
    "\n",
    "#### Click on the following link and download the dataset from [Kaggle](https://www.kaggle.com/PromptCloudHQ/imdb-data)."
   ]
  },
  {
   "cell_type": "code",
   "execution_count": 1,
   "id": "070ebed9-c948-4821-9a24-67f0e3fe8fce",
   "metadata": {},
   "outputs": [],
   "source": [
    "# import pandas\n",
    "import pandas as pd\n",
    "# create your data variabe using .read_csv \n",
    "movie = pd.read_csv('IMDB-Movie-Data.csv')\n",
    "# create your data_indexed variable here\n",
    "movie_indexed = pd.read_csv('IMDB-Movie-Data.csv', index_col = 'Title')"
   ]
  },
  {
   "cell_type": "code",
   "execution_count": 26,
   "id": "608c357a-271b-49c1-9b96-68b5c1cb7046",
   "metadata": {},
   "outputs": [],
   "source": [
    "# If you are having trouble reading your file, try finding the path.  \n",
    "    # Right click on your data set, on the pop-up menu select \"Copy Path\" then paste it into your read_csv() function."
   ]
  },
  {
   "cell_type": "code",
   "execution_count": 2,
   "id": "5d8b578c-750c-491b-98d5-140a237ad940",
   "metadata": {},
   "outputs": [
    {
     "name": "stdout",
     "output_type": "stream",
     "text": [
      "                         Rank                     Genre  \\\n",
      "Title                                                     \n",
      "Guardians of the Galaxy     1   Action,Adventure,Sci-Fi   \n",
      "Prometheus                  2  Adventure,Mystery,Sci-Fi   \n",
      "Split                       3           Horror,Thriller   \n",
      "Sing                        4   Animation,Comedy,Family   \n",
      "Suicide Squad               5  Action,Adventure,Fantasy   \n",
      "...                       ...                       ...   \n",
      "Secret in Their Eyes      996       Crime,Drama,Mystery   \n",
      "Hostel: Part II           997                    Horror   \n",
      "Step Up 2: The Streets    998       Drama,Music,Romance   \n",
      "Search Party              999          Adventure,Comedy   \n",
      "Nine Lives               1000     Comedy,Family,Fantasy   \n",
      "\n",
      "                                                               Description  \\\n",
      "Title                                                                        \n",
      "Guardians of the Galaxy  A group of intergalactic criminals are forced ...   \n",
      "Prometheus               Following clues to the origin of mankind, a te...   \n",
      "Split                    Three girls are kidnapped by a man with a diag...   \n",
      "Sing                     In a city of humanoid animals, a hustling thea...   \n",
      "Suicide Squad            A secret government agency recruits some of th...   \n",
      "...                                                                    ...   \n",
      "Secret in Their Eyes     A tight-knit team of rising investigators, alo...   \n",
      "Hostel: Part II          Three American college students studying abroa...   \n",
      "Step Up 2: The Streets   Romantic sparks occur between two dance studen...   \n",
      "Search Party             A pair of friends embark on a mission to reuni...   \n",
      "Nine Lives               A stuffy businessman finds himself trapped ins...   \n",
      "\n",
      "                                     Director  \\\n",
      "Title                                           \n",
      "Guardians of the Galaxy            James Gunn   \n",
      "Prometheus                       Ridley Scott   \n",
      "Split                      M. Night Shyamalan   \n",
      "Sing                     Christophe Lourdelet   \n",
      "Suicide Squad                      David Ayer   \n",
      "...                                       ...   \n",
      "Secret in Their Eyes                Billy Ray   \n",
      "Hostel: Part II                      Eli Roth   \n",
      "Step Up 2: The Streets             Jon M. Chu   \n",
      "Search Party                   Scot Armstrong   \n",
      "Nine Lives                   Barry Sonnenfeld   \n",
      "\n",
      "                                                                    Actors  \\\n",
      "Title                                                                        \n",
      "Guardians of the Galaxy  Chris Pratt, Vin Diesel, Bradley Cooper, Zoe S...   \n",
      "Prometheus               Noomi Rapace, Logan Marshall-Green, Michael Fa...   \n",
      "Split                    James McAvoy, Anya Taylor-Joy, Haley Lu Richar...   \n",
      "Sing                     Matthew McConaughey,Reese Witherspoon, Seth Ma...   \n",
      "Suicide Squad            Will Smith, Jared Leto, Margot Robbie, Viola D...   \n",
      "...                                                                    ...   \n",
      "Secret in Their Eyes     Chiwetel Ejiofor, Nicole Kidman, Julia Roberts...   \n",
      "Hostel: Part II          Lauren German, Heather Matarazzo, Bijou Philli...   \n",
      "Step Up 2: The Streets   Robert Hoffman, Briana Evigan, Cassie Ventura,...   \n",
      "Search Party             Adam Pally, T.J. Miller, Thomas Middleditch,Sh...   \n",
      "Nine Lives               Kevin Spacey, Jennifer Garner, Robbie Amell,Ch...   \n",
      "\n",
      "                         Year  Runtime (Minutes)  Rating   Votes  \\\n",
      "Title                                                              \n",
      "Guardians of the Galaxy  2014                121     8.1  757074   \n",
      "Prometheus               2012                124     7.0  485820   \n",
      "Split                    2016                117     7.3  157606   \n",
      "Sing                     2016                108     7.2   60545   \n",
      "Suicide Squad            2016                123     6.2  393727   \n",
      "...                       ...                ...     ...     ...   \n",
      "Secret in Their Eyes     2015                111     6.2   27585   \n",
      "Hostel: Part II          2007                 94     5.5   73152   \n",
      "Step Up 2: The Streets   2008                 98     6.2   70699   \n",
      "Search Party             2014                 93     5.6    4881   \n",
      "Nine Lives               2016                 87     5.3   12435   \n",
      "\n",
      "                         Revenue (Millions)  Metascore  \n",
      "Title                                                   \n",
      "Guardians of the Galaxy              333.13       76.0  \n",
      "Prometheus                           126.46       65.0  \n",
      "Split                                138.12       62.0  \n",
      "Sing                                 270.32       59.0  \n",
      "Suicide Squad                        325.02       40.0  \n",
      "...                                     ...        ...  \n",
      "Secret in Their Eyes                    NaN       45.0  \n",
      "Hostel: Part II                       17.54       46.0  \n",
      "Step Up 2: The Streets                58.01       50.0  \n",
      "Search Party                            NaN       22.0  \n",
      "Nine Lives                            19.64       11.0  \n",
      "\n",
      "[1000 rows x 11 columns]\n"
     ]
    }
   ],
   "source": [
    "# Read data with specified explicit index\n",
    "# print(data)\n",
    "\n",
    "movie_dataframe = pd.DataFrame(movie_indexed)\n",
    "movie_title = pd.DataFrame(movie_dataframe)\n",
    "\n",
    "# print(movie_dataframe)\n",
    "print(movie_title)"
   ]
  },
  {
   "cell_type": "markdown",
   "id": "f449d3ea-91fe-45f5-8d6b-e6ccab3502d7",
   "metadata": {
    "tags": []
   },
   "source": [
    "### 2. View Data\n",
    "#### As we go through this section, write your own definitions of what each function does as a comment in the code box."
   ]
  },
  {
   "cell_type": "code",
   "execution_count": 6,
   "id": "ac9b2d61-7ed5-4e83-995d-c498036f37f9",
   "metadata": {},
   "outputs": [
    {
     "name": "stdout",
     "output_type": "stream",
     "text": [
      "                         Rank                     Genre  \\\n",
      "Title                                                     \n",
      "Guardians of the Galaxy     1   Action,Adventure,Sci-Fi   \n",
      "Prometheus                  2  Adventure,Mystery,Sci-Fi   \n",
      "Split                       3           Horror,Thriller   \n",
      "Sing                        4   Animation,Comedy,Family   \n",
      "Suicide Squad               5  Action,Adventure,Fantasy   \n",
      "\n",
      "                                                               Description  \\\n",
      "Title                                                                        \n",
      "Guardians of the Galaxy  A group of intergalactic criminals are forced ...   \n",
      "Prometheus               Following clues to the origin of mankind, a te...   \n",
      "Split                    Three girls are kidnapped by a man with a diag...   \n",
      "Sing                     In a city of humanoid animals, a hustling thea...   \n",
      "Suicide Squad            A secret government agency recruits some of th...   \n",
      "\n",
      "                                     Director  \\\n",
      "Title                                           \n",
      "Guardians of the Galaxy            James Gunn   \n",
      "Prometheus                       Ridley Scott   \n",
      "Split                      M. Night Shyamalan   \n",
      "Sing                     Christophe Lourdelet   \n",
      "Suicide Squad                      David Ayer   \n",
      "\n",
      "                                                                    Actors  \\\n",
      "Title                                                                        \n",
      "Guardians of the Galaxy  Chris Pratt, Vin Diesel, Bradley Cooper, Zoe S...   \n",
      "Prometheus               Noomi Rapace, Logan Marshall-Green, Michael Fa...   \n",
      "Split                    James McAvoy, Anya Taylor-Joy, Haley Lu Richar...   \n",
      "Sing                     Matthew McConaughey,Reese Witherspoon, Seth Ma...   \n",
      "Suicide Squad            Will Smith, Jared Leto, Margot Robbie, Viola D...   \n",
      "\n",
      "                         Year  Runtime (Minutes)  Rating   Votes  \\\n",
      "Title                                                              \n",
      "Guardians of the Galaxy  2014                121     8.1  757074   \n",
      "Prometheus               2012                124     7.0  485820   \n",
      "Split                    2016                117     7.3  157606   \n",
      "Sing                     2016                108     7.2   60545   \n",
      "Suicide Squad            2016                123     6.2  393727   \n",
      "\n",
      "                         Revenue (Millions)  Metascore  \n",
      "Title                                                   \n",
      "Guardians of the Galaxy              333.13       76.0  \n",
      "Prometheus                           126.46       65.0  \n",
      "Split                                138.12       62.0  \n",
      "Sing                                 270.32       59.0  \n",
      "Suicide Squad                        325.02       40.0  \n"
     ]
    }
   ],
   "source": [
    "# Use the head() function to view the first 5 rows of the data set\n",
    "# head returns all the data from the top number of rows(indeces) identified within the paraentheses of data available. \n",
    "\n",
    "print(movie_title.head(5))\n",
    "\n"
   ]
  },
  {
   "cell_type": "code",
   "execution_count": 7,
   "id": "3fffca4b-90f4-4f73-a9af-f0b02886f8b3",
   "metadata": {},
   "outputs": [
    {
     "name": "stdout",
     "output_type": "stream",
     "text": [
      "                        Rank                  Genre  \\\n",
      "Title                                                 \n",
      "Secret in Their Eyes     996    Crime,Drama,Mystery   \n",
      "Hostel: Part II          997                 Horror   \n",
      "Step Up 2: The Streets   998    Drama,Music,Romance   \n",
      "Search Party             999       Adventure,Comedy   \n",
      "Nine Lives              1000  Comedy,Family,Fantasy   \n",
      "\n",
      "                                                              Description  \\\n",
      "Title                                                                       \n",
      "Secret in Their Eyes    A tight-knit team of rising investigators, alo...   \n",
      "Hostel: Part II         Three American college students studying abroa...   \n",
      "Step Up 2: The Streets  Romantic sparks occur between two dance studen...   \n",
      "Search Party            A pair of friends embark on a mission to reuni...   \n",
      "Nine Lives              A stuffy businessman finds himself trapped ins...   \n",
      "\n",
      "                                Director  \\\n",
      "Title                                      \n",
      "Secret in Their Eyes           Billy Ray   \n",
      "Hostel: Part II                 Eli Roth   \n",
      "Step Up 2: The Streets        Jon M. Chu   \n",
      "Search Party              Scot Armstrong   \n",
      "Nine Lives              Barry Sonnenfeld   \n",
      "\n",
      "                                                                   Actors  \\\n",
      "Title                                                                       \n",
      "Secret in Their Eyes    Chiwetel Ejiofor, Nicole Kidman, Julia Roberts...   \n",
      "Hostel: Part II         Lauren German, Heather Matarazzo, Bijou Philli...   \n",
      "Step Up 2: The Streets  Robert Hoffman, Briana Evigan, Cassie Ventura,...   \n",
      "Search Party            Adam Pally, T.J. Miller, Thomas Middleditch,Sh...   \n",
      "Nine Lives              Kevin Spacey, Jennifer Garner, Robbie Amell,Ch...   \n",
      "\n",
      "                        Year  Runtime (Minutes)  Rating  Votes  \\\n",
      "Title                                                            \n",
      "Secret in Their Eyes    2015                111     6.2  27585   \n",
      "Hostel: Part II         2007                 94     5.5  73152   \n",
      "Step Up 2: The Streets  2008                 98     6.2  70699   \n",
      "Search Party            2014                 93     5.6   4881   \n",
      "Nine Lives              2016                 87     5.3  12435   \n",
      "\n",
      "                        Revenue (Millions)  Metascore  \n",
      "Title                                                  \n",
      "Secret in Their Eyes                   NaN       45.0  \n",
      "Hostel: Part II                      17.54       46.0  \n",
      "Step Up 2: The Streets               58.01       50.0  \n",
      "Search Party                           NaN       22.0  \n",
      "Nine Lives                           19.64       11.0  \n"
     ]
    }
   ],
   "source": [
    "# Use the tail() function to view the last 5 rows of the data set\n",
    "# tail returns all the data from the bottom number of rows(indeces) identified within the paraentheses of data available. \n",
    "\n",
    "print(movie_title.tail(5))"
   ]
  },
  {
   "cell_type": "markdown",
   "id": "e03bbc57-a8cf-48da-9057-3b1f6b642a08",
   "metadata": {},
   "source": [
    "### 3. Understand basic information about the data\n",
    "#### As we go through this section, write your own definitions of what each function does as a comment in the code box."
   ]
  },
  {
   "cell_type": "code",
   "execution_count": 10,
   "id": "f303e7fb-0e02-48e2-8390-66eefca899aa",
   "metadata": {},
   "outputs": [
    {
     "name": "stdout",
     "output_type": "stream",
     "text": [
      "<class 'pandas.core.frame.DataFrame'>\n",
      "Index: 1000 entries, Guardians of the Galaxy to Nine Lives\n",
      "Data columns (total 11 columns):\n",
      " #   Column              Non-Null Count  Dtype  \n",
      "---  ------              --------------  -----  \n",
      " 0   Rank                1000 non-null   int64  \n",
      " 1   Genre               1000 non-null   object \n",
      " 2   Description         1000 non-null   object \n",
      " 3   Director            1000 non-null   object \n",
      " 4   Actors              1000 non-null   object \n",
      " 5   Year                1000 non-null   int64  \n",
      " 6   Runtime (Minutes)   1000 non-null   int64  \n",
      " 7   Rating              1000 non-null   float64\n",
      " 8   Votes               1000 non-null   int64  \n",
      " 9   Revenue (Millions)  872 non-null    float64\n",
      " 10  Metascore           936 non-null    float64\n",
      "dtypes: float64(3), int64(4), object(4)\n",
      "memory usage: 93.8+ KB\n"
     ]
    }
   ],
   "source": [
    "# The info() function: \n",
    "# privides a summary of the way the data is displayed and entered. It gives the types per series as well as how many values are in the\n",
    "# different series and indices\n",
    "movie_title.info()\n"
   ]
  },
  {
   "cell_type": "code",
   "execution_count": 28,
   "id": "ade5ce1f-7a2a-4940-a0f9-eed7891154ff",
   "metadata": {},
   "outputs": [
    {
     "data": {
      "text/plain": [
       "(1000, 11)"
      ]
     },
     "execution_count": 28,
     "metadata": {},
     "output_type": "execute_result"
    }
   ],
   "source": [
    "# shape:\n",
    "movie_title.shape\n",
    "\n",
    "# what information does shape provide?  what is the order?\n",
    "# it's the number of rows first and then the number of columns in the data structure. It gives you an idea of the area or size or how the fully printed data frame would look. "
   ]
  },
  {
   "cell_type": "code",
   "execution_count": 29,
   "id": "791db782-5041-4259-a3e4-d14c6e2e248a",
   "metadata": {},
   "outputs": [
    {
     "data": {
      "text/plain": [
       "Index(['Rank', 'Genre', 'Description', 'Director', 'Actors', 'Year',\n",
       "       'Runtime (Minutes)', 'Rating', 'Votes', 'Revenue (Millions)',\n",
       "       'Metascore'],\n",
       "      dtype='object')"
      ]
     },
     "execution_count": 29,
     "metadata": {},
     "output_type": "execute_result"
    }
   ],
   "source": [
    "# columns:\n",
    "movie_title.columns\n",
    "\n",
    "\n",
    "# what information does columns provide?\n",
    "# columns lists the column labels or names included in the dataframe\n"
   ]
  },
  {
   "cell_type": "code",
   "execution_count": 11,
   "id": "994c8783-3f4b-4f56-b9fb-1b50193f1fab",
   "metadata": {},
   "outputs": [
    {
     "data": {
      "text/html": [
       "<div>\n",
       "<style scoped>\n",
       "    .dataframe tbody tr th:only-of-type {\n",
       "        vertical-align: middle;\n",
       "    }\n",
       "\n",
       "    .dataframe tbody tr th {\n",
       "        vertical-align: top;\n",
       "    }\n",
       "\n",
       "    .dataframe thead th {\n",
       "        text-align: right;\n",
       "    }\n",
       "</style>\n",
       "<table border=\"1\" class=\"dataframe\">\n",
       "  <thead>\n",
       "    <tr style=\"text-align: right;\">\n",
       "      <th></th>\n",
       "      <th>Rank</th>\n",
       "      <th>Year</th>\n",
       "      <th>Runtime (Minutes)</th>\n",
       "      <th>Rating</th>\n",
       "      <th>Votes</th>\n",
       "      <th>Revenue (Millions)</th>\n",
       "      <th>Metascore</th>\n",
       "    </tr>\n",
       "  </thead>\n",
       "  <tbody>\n",
       "    <tr>\n",
       "      <th>count</th>\n",
       "      <td>1000.000000</td>\n",
       "      <td>1000.000000</td>\n",
       "      <td>1000.000000</td>\n",
       "      <td>1000.000000</td>\n",
       "      <td>1.000000e+03</td>\n",
       "      <td>872.000000</td>\n",
       "      <td>936.000000</td>\n",
       "    </tr>\n",
       "    <tr>\n",
       "      <th>mean</th>\n",
       "      <td>500.500000</td>\n",
       "      <td>2012.783000</td>\n",
       "      <td>113.172000</td>\n",
       "      <td>6.723200</td>\n",
       "      <td>1.698083e+05</td>\n",
       "      <td>82.956376</td>\n",
       "      <td>58.985043</td>\n",
       "    </tr>\n",
       "    <tr>\n",
       "      <th>std</th>\n",
       "      <td>288.819436</td>\n",
       "      <td>3.205962</td>\n",
       "      <td>18.810908</td>\n",
       "      <td>0.945429</td>\n",
       "      <td>1.887626e+05</td>\n",
       "      <td>103.253540</td>\n",
       "      <td>17.194757</td>\n",
       "    </tr>\n",
       "    <tr>\n",
       "      <th>min</th>\n",
       "      <td>1.000000</td>\n",
       "      <td>2006.000000</td>\n",
       "      <td>66.000000</td>\n",
       "      <td>1.900000</td>\n",
       "      <td>6.100000e+01</td>\n",
       "      <td>0.000000</td>\n",
       "      <td>11.000000</td>\n",
       "    </tr>\n",
       "    <tr>\n",
       "      <th>25%</th>\n",
       "      <td>250.750000</td>\n",
       "      <td>2010.000000</td>\n",
       "      <td>100.000000</td>\n",
       "      <td>6.200000</td>\n",
       "      <td>3.630900e+04</td>\n",
       "      <td>13.270000</td>\n",
       "      <td>47.000000</td>\n",
       "    </tr>\n",
       "    <tr>\n",
       "      <th>50%</th>\n",
       "      <td>500.500000</td>\n",
       "      <td>2014.000000</td>\n",
       "      <td>111.000000</td>\n",
       "      <td>6.800000</td>\n",
       "      <td>1.107990e+05</td>\n",
       "      <td>47.985000</td>\n",
       "      <td>59.500000</td>\n",
       "    </tr>\n",
       "    <tr>\n",
       "      <th>75%</th>\n",
       "      <td>750.250000</td>\n",
       "      <td>2016.000000</td>\n",
       "      <td>123.000000</td>\n",
       "      <td>7.400000</td>\n",
       "      <td>2.399098e+05</td>\n",
       "      <td>113.715000</td>\n",
       "      <td>72.000000</td>\n",
       "    </tr>\n",
       "    <tr>\n",
       "      <th>max</th>\n",
       "      <td>1000.000000</td>\n",
       "      <td>2016.000000</td>\n",
       "      <td>191.000000</td>\n",
       "      <td>9.000000</td>\n",
       "      <td>1.791916e+06</td>\n",
       "      <td>936.630000</td>\n",
       "      <td>100.000000</td>\n",
       "    </tr>\n",
       "  </tbody>\n",
       "</table>\n",
       "</div>"
      ],
      "text/plain": [
       "              Rank         Year  Runtime (Minutes)       Rating         Votes  \\\n",
       "count  1000.000000  1000.000000        1000.000000  1000.000000  1.000000e+03   \n",
       "mean    500.500000  2012.783000         113.172000     6.723200  1.698083e+05   \n",
       "std     288.819436     3.205962          18.810908     0.945429  1.887626e+05   \n",
       "min       1.000000  2006.000000          66.000000     1.900000  6.100000e+01   \n",
       "25%     250.750000  2010.000000         100.000000     6.200000  3.630900e+04   \n",
       "50%     500.500000  2014.000000         111.000000     6.800000  1.107990e+05   \n",
       "75%     750.250000  2016.000000         123.000000     7.400000  2.399098e+05   \n",
       "max    1000.000000  2016.000000         191.000000     9.000000  1.791916e+06   \n",
       "\n",
       "       Revenue (Millions)   Metascore  \n",
       "count          872.000000  936.000000  \n",
       "mean            82.956376   58.985043  \n",
       "std            103.253540   17.194757  \n",
       "min              0.000000   11.000000  \n",
       "25%             13.270000   47.000000  \n",
       "50%             47.985000   59.500000  \n",
       "75%            113.715000   72.000000  \n",
       "max            936.630000  100.000000  "
      ]
     },
     "execution_count": 11,
     "metadata": {},
     "output_type": "execute_result"
    }
   ],
   "source": [
    "# The describe() function: \n",
    "# provides summary stats for the whole dataframe\n",
    "movie_title.describe()\n"
   ]
  },
  {
   "cell_type": "markdown",
   "id": "7293ea51-6d32-43ab-8d26-268bdea21de1",
   "metadata": {},
   "source": [
    "### 4. Data Selection -- Indexing and Slicing"
   ]
  },
  {
   "cell_type": "code",
   "execution_count": 16,
   "id": "b3e134af-4ef9-4a9f-9ee1-d507905764e7",
   "metadata": {},
   "outputs": [
    {
     "name": "stdout",
     "output_type": "stream",
     "text": [
      "Title\n",
      "Guardians of the Galaxy     Action,Adventure,Sci-Fi\n",
      "Prometheus                 Adventure,Mystery,Sci-Fi\n",
      "Split                               Horror,Thriller\n",
      "Sing                        Animation,Comedy,Family\n",
      "Suicide Squad              Action,Adventure,Fantasy\n",
      "                                     ...           \n",
      "Secret in Their Eyes            Crime,Drama,Mystery\n",
      "Hostel: Part II                              Horror\n",
      "Step Up 2: The Streets          Drama,Music,Romance\n",
      "Search Party                       Adventure,Comedy\n",
      "Nine Lives                    Comedy,Family,Fantasy\n",
      "Name: Genre, Length: 1000, dtype: object\n"
     ]
    }
   ],
   "source": [
    "#  Extract data as series\n",
    "genre = movie_title['Genre']\n",
    "# define and print the variable 'genre'\n",
    "print(genre)\n",
    "\n",
    "\n"
   ]
  },
  {
   "cell_type": "code",
   "execution_count": 18,
   "id": "33307a39-0656-4598-8489-55bc80a253eb",
   "metadata": {},
   "outputs": [
    {
     "name": "stdout",
     "output_type": "stream",
     "text": [
      "                                            Genre\n",
      "Title                                            \n",
      "Guardians of the Galaxy   Action,Adventure,Sci-Fi\n",
      "Prometheus               Adventure,Mystery,Sci-Fi\n",
      "Split                             Horror,Thriller\n",
      "Sing                      Animation,Comedy,Family\n",
      "Suicide Squad            Action,Adventure,Fantasy\n",
      "...                                           ...\n",
      "Secret in Their Eyes          Crime,Drama,Mystery\n",
      "Hostel: Part II                            Horror\n",
      "Step Up 2: The Streets        Drama,Music,Romance\n",
      "Search Party                     Adventure,Comedy\n",
      "Nine Lives                  Comedy,Family,Fantasy\n",
      "\n",
      "[1000 rows x 1 columns]\n"
     ]
    }
   ],
   "source": [
    "# Extract the data as a dataframe and print it\n",
    "genre_new = pd.DataFrame(genre)\n",
    "\n",
    "print(genre_new)\n",
    "\n"
   ]
  },
  {
   "cell_type": "code",
   "execution_count": 32,
   "id": "0530ffd1-e143-4a7a-a4e2-c2e88de188f9",
   "metadata": {},
   "outputs": [
    {
     "name": "stdout",
     "output_type": "stream",
     "text": [
      "Rank                                                                  4\n",
      "Genre                                           Animation,Comedy,Family\n",
      "Description           In a city of humanoid animals, a hustling thea...\n",
      "Director                                           Christophe Lourdelet\n",
      "Actors                Matthew McConaughey,Reese Witherspoon, Seth Ma...\n",
      "Year                                                               2016\n",
      "Runtime (Minutes)                                                   108\n",
      "Rating                                                              7.2\n",
      "Votes                                                             60545\n",
      "Revenue (Millions)                                               270.32\n",
      "Metascore                                                          59.0\n",
      "Name: Sing, dtype: object\n"
     ]
    }
   ],
   "source": [
    "# Extract data using rows\n",
    "movie_rows = movie_title.loc['Sing']\n",
    "\n",
    "# loc function\n",
    "print(movie_rows)\n",
    "\n"
   ]
  },
  {
   "cell_type": "code",
   "execution_count": 36,
   "id": "7ed5a16d-7302-4c0c-bf9e-0295a8cee090",
   "metadata": {},
   "outputs": [
    {
     "name": "stdout",
     "output_type": "stream",
     "text": [
      "Rank                                                                  4\n",
      "Genre                                           Animation,Comedy,Family\n",
      "Description           In a city of humanoid animals, a hustling thea...\n",
      "Director                                           Christophe Lourdelet\n",
      "Actors                Matthew McConaughey,Reese Witherspoon, Seth Ma...\n",
      "Year                                                               2016\n",
      "Runtime (Minutes)                                                   108\n",
      "Rating                                                              7.2\n",
      "Votes                                                             60545\n",
      "Revenue (Millions)                                               270.32\n",
      "Metascore                                                          59.0\n",
      "Name: Sing, dtype: object\n"
     ]
    }
   ],
   "source": [
    "# iloc function\n",
    "# Extract data using rows\n",
    "movie_rows = movie_title.iloc[3]\n",
    "\n",
    "print(movie_rows)\n"
   ]
  },
  {
   "cell_type": "markdown",
   "id": "35d10282-730f-49c3-bca1-55a990811c80",
   "metadata": {},
   "source": [
    "### 5. Data Selection - Based on Conditional Filtering"
   ]
  },
  {
   "cell_type": "code",
   "execution_count": 7,
   "id": "97cac6a1-dd88-4a8c-86e8-514312bf1bb0",
   "metadata": {},
   "outputs": [
    {
     "name": "stdout",
     "output_type": "stream",
     "text": [
      "                                           Rank                    Genre  \\\n",
      "Title                                                                      \n",
      "The Twilight Saga: Breaking Dawn - Part 2   367  Adventure,Drama,Fantasy   \n",
      "The Twilight Saga: Breaking Dawn - Part 1   926  Adventure,Drama,Fantasy   \n",
      "Transformers: Age of Extinction             127  Action,Adventure,Sci-Fi   \n",
      "Teenage Mutant Ninja Turtles                658  Action,Adventure,Comedy   \n",
      "Fifty Shades of Grey                         64   Drama,Romance,Thriller   \n",
      "...                                         ...                      ...   \n",
      "The Ridiculous 6                            643           Comedy,Western   \n",
      "Final Girl                                  778          Action,Thriller   \n",
      "Man Down                                    825           Drama,Thriller   \n",
      "Wrecker                                     969   Action,Horror,Thriller   \n",
      "Search Party                                999         Adventure,Comedy   \n",
      "\n",
      "                                                                                 Description  \\\n",
      "Title                                                                                          \n",
      "The Twilight Saga: Breaking Dawn - Part 2  After the birth of Renesmee, the Cullens gathe...   \n",
      "The Twilight Saga: Breaking Dawn - Part 1  The Quileutes close in on expecting parents Ed...   \n",
      "Transformers: Age of Extinction            Autobots must escape sight from a bounty hunte...   \n",
      "Teenage Mutant Ninja Turtles               When a kingpin threatens New York City, a grou...   \n",
      "Fifty Shades of Grey                       Literature student Anastasia Steele's life cha...   \n",
      "...                                                                                      ...   \n",
      "The Ridiculous 6                           An outlaw who was raised by Native Americans d...   \n",
      "Final Girl                                 A man teaches a young woman how to become a co...   \n",
      "Man Down                                   In a post-apocalyptic America, former U.S. Mar...   \n",
      "Wrecker                                    Best friends Emily and Lesley go on a road tri...   \n",
      "Search Party                               A pair of friends embark on a mission to reuni...   \n",
      "\n",
      "                                                     Director  \\\n",
      "Title                                                           \n",
      "The Twilight Saga: Breaking Dawn - Part 2         Bill Condon   \n",
      "The Twilight Saga: Breaking Dawn - Part 1         Bill Condon   \n",
      "Transformers: Age of Extinction                   Michael Bay   \n",
      "Teenage Mutant Ninja Turtles               Jonathan Liebesman   \n",
      "Fifty Shades of Grey                       Sam Taylor-Johnson   \n",
      "...                                                       ...   \n",
      "The Ridiculous 6                                 Frank Coraci   \n",
      "Final Girl                                      Tyler Shields   \n",
      "Man Down                                         Dito Montiel   \n",
      "Wrecker                                        Micheal Bafaro   \n",
      "Search Party                                   Scot Armstrong   \n",
      "\n",
      "                                                                                      Actors  \\\n",
      "Title                                                                                          \n",
      "The Twilight Saga: Breaking Dawn - Part 2  Kristen Stewart, Robert Pattinson, Taylor Laut...   \n",
      "The Twilight Saga: Breaking Dawn - Part 1  Kristen Stewart, Robert Pattinson, Taylor Laut...   \n",
      "Transformers: Age of Extinction            Mark Wahlberg, Nicola Peltz, Jack Reynor, Stan...   \n",
      "Teenage Mutant Ninja Turtles               Megan Fox, Will Arnett, William Fichtner, Noel...   \n",
      "Fifty Shades of Grey                       Dakota Johnson, Jamie Dornan, Jennifer Ehle,El...   \n",
      "...                                                                                      ...   \n",
      "The Ridiculous 6                           Adam Sandler, Terry Crews, Jorge Garcia, Taylo...   \n",
      "Final Girl                                 Abigail Breslin, Wes Bentley, Logan Huffman,Al...   \n",
      "Man Down                                   Shia LaBeouf, Jai Courtney, Gary Oldman, Kate ...   \n",
      "Wrecker                                    Anna Hutchison, Andrea Whitburn, Jennifer Koen...   \n",
      "Search Party                               Adam Pally, T.J. Miller, Thomas Middleditch,Sh...   \n",
      "\n",
      "                                           Year  Runtime (Minutes)  Rating  \\\n",
      "Title                                                                        \n",
      "The Twilight Saga: Breaking Dawn - Part 2  2012                115     5.5   \n",
      "The Twilight Saga: Breaking Dawn - Part 1  2011                117     4.9   \n",
      "Transformers: Age of Extinction            2014                165     5.7   \n",
      "Teenage Mutant Ninja Turtles               2014                101     5.9   \n",
      "Fifty Shades of Grey                       2015                125     4.1   \n",
      "...                                         ...                ...     ...   \n",
      "The Ridiculous 6                           2015                119     4.8   \n",
      "Final Girl                                 2015                 90     4.7   \n",
      "Man Down                                   2015                 90     5.8   \n",
      "Wrecker                                    2015                 83     3.5   \n",
      "Search Party                               2014                 93     5.6   \n",
      "\n",
      "                                            Votes  Revenue (Millions)  \\\n",
      "Title                                                                   \n",
      "The Twilight Saga: Breaking Dawn - Part 2  194329              292.30   \n",
      "The Twilight Saga: Breaking Dawn - Part 1  190244              281.28   \n",
      "Transformers: Age of Extinction            255483              245.43   \n",
      "Teenage Mutant Ninja Turtles               178527              190.87   \n",
      "Fifty Shades of Grey                       244474              166.15   \n",
      "...                                           ...                 ...   \n",
      "The Ridiculous 6                            31149                 NaN   \n",
      "Final Girl                                   9026                 NaN   \n",
      "Man Down                                     4779                 NaN   \n",
      "Wrecker                                      1210                 NaN   \n",
      "Search Party                                 4881                 NaN   \n",
      "\n",
      "                                           Metascore  \n",
      "Title                                                 \n",
      "The Twilight Saga: Breaking Dawn - Part 2       52.0  \n",
      "The Twilight Saga: Breaking Dawn - Part 1       45.0  \n",
      "Transformers: Age of Extinction                 32.0  \n",
      "Teenage Mutant Ninja Turtles                    31.0  \n",
      "Fifty Shades of Grey                            46.0  \n",
      "...                                              ...  \n",
      "The Ridiculous 6                                18.0  \n",
      "Final Girl                                      56.0  \n",
      "Man Down                                        27.0  \n",
      "Wrecker                                         37.0  \n",
      "Search Party                                    22.0  \n",
      "\n",
      "[66 rows x 11 columns]\n"
     ]
    }
   ],
   "source": [
    "# Use the code block to select movies that have been released between 2010-2016, with a rating of less than 6.0, but generated a signifianct (top) revenue.\n",
    "new_list = movie_title.loc[(movie_title['Year'] < 2016) & (movie_title['Year'] > 2010) & (movie_title['Rating'] < 6)]\n",
    "nl = new_list.sort_values(by='Revenue (Millions)', ascending=False)\n",
    "print(nl)\n",
    "\n",
    "# & (movie_title[Rating] > 6) & (movie_title.sort_values(['Revenue (Millions)', ascending=False]))] \n"
   ]
  },
  {
   "cell_type": "code",
   "execution_count": 11,
   "id": "f0c045a1-200a-4d58-9b9f-480edb106765",
   "metadata": {},
   "outputs": [
    {
     "ename": "TypeError",
     "evalue": "'DataFrame' object is not callable",
     "output_type": "error",
     "traceback": [
      "\u001b[1;31m---------------------------------------------------------------------------\u001b[0m",
      "\u001b[1;31mTypeError\u001b[0m                                 Traceback (most recent call last)",
      "Cell \u001b[1;32mIn[11], line 5\u001b[0m\n\u001b[0;32m      3\u001b[0m new_list \u001b[38;5;241m=\u001b[39m movie_title\u001b[38;5;241m.\u001b[39mloc[(movie_title[\u001b[38;5;124m'\u001b[39m\u001b[38;5;124mYear\u001b[39m\u001b[38;5;124m'\u001b[39m] \u001b[38;5;241m<\u001b[39m \u001b[38;5;241m2016\u001b[39m) \u001b[38;5;241m&\u001b[39m (movie_title[\u001b[38;5;124m'\u001b[39m\u001b[38;5;124mYear\u001b[39m\u001b[38;5;124m'\u001b[39m] \u001b[38;5;241m>\u001b[39m \u001b[38;5;241m2007\u001b[39m) \u001b[38;5;241m&\u001b[39m (movie_title[\u001b[38;5;124m'\u001b[39m\u001b[38;5;124mRating\u001b[39m\u001b[38;5;124m'\u001b[39m] \u001b[38;5;241m<\u001b[39m \u001b[38;5;241m6\u001b[39m)]\n\u001b[0;32m      4\u001b[0m nl \u001b[38;5;241m=\u001b[39m new_list\u001b[38;5;241m.\u001b[39msort_values(by\u001b[38;5;241m=\u001b[39m\u001b[38;5;124m'\u001b[39m\u001b[38;5;124mRevenue (Millions)\u001b[39m\u001b[38;5;124m'\u001b[39m, ascending\u001b[38;5;241m=\u001b[39m\u001b[38;5;28;01mFalse\u001b[39;00m)\n\u001b[1;32m----> 5\u001b[0m movie \u001b[38;5;241m=\u001b[39m \u001b[43mnl\u001b[49m\u001b[43m(\u001b[49m\u001b[43m{\u001b[49m\u001b[38;5;124;43m'\u001b[39;49m\u001b[38;5;124;43mTitle\u001b[39;49m\u001b[38;5;124;43m'\u001b[39;49m\u001b[43m:\u001b[49m\u001b[43m \u001b[49m\u001b[38;5;124;43m'\u001b[39;49m\u001b[38;5;124;43mTwilight\u001b[39;49m\u001b[38;5;124;43m'\u001b[39;49m\u001b[43m}\u001b[49m\u001b[43m)\u001b[49m\n\u001b[0;32m      6\u001b[0m twilight \u001b[38;5;241m=\u001b[39m nl\u001b[38;5;241m.\u001b[39misin(movie)\n\u001b[0;32m      7\u001b[0m \u001b[38;5;28mprint\u001b[39m(twilight)\n",
      "\u001b[1;31mTypeError\u001b[0m: 'DataFrame' object is not callable"
     ]
    }
   ],
   "source": [
    "# Note: The article is expecting more than 1 Twilight movie at the time of publishing.  \n",
    "#To find the second Twilight movie, try manipulating the quantile value.  \n",
    "new_list = movie_title.loc[(movie_title['Year'] < 2016) & (movie_title['Year'] > 2007) & (movie_title['Rating'] < 6)]\n",
    "nl = new_list.sort_values(by='Revenue (Millions)', ascending=False)\n",
    "\n",
    "twilight = nl.isin(movie)\n",
    "print(twilight)\n",
    "#How specific can you get?"
   ]
  },
  {
   "cell_type": "code",
   "execution_count": null,
   "id": "5f04a46e-5d8e-4bda-a917-945bdc81a9e2",
   "metadata": {},
   "outputs": [],
   "source": []
  }
 ],
 "metadata": {
  "kernelspec": {
   "display_name": "Python 3 (ipykernel)",
   "language": "python",
   "name": "python3"
  },
  "language_info": {
   "codemirror_mode": {
    "name": "ipython",
    "version": 3
   },
   "file_extension": ".py",
   "mimetype": "text/x-python",
   "name": "python",
   "nbconvert_exporter": "python",
   "pygments_lexer": "ipython3",
   "version": "3.12.5"
  }
 },
 "nbformat": 4,
 "nbformat_minor": 5
}
