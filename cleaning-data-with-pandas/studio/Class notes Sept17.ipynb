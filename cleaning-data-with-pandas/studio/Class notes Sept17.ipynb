{
 "cells": [
  {
   "cell_type": "markdown",
   "id": "dc8b3cf4-2a21-48eb-8442-3e02602b72c5",
   "metadata": {},
   "source": [
    "Ch 20 Class Lecture - Cleaning Data with pandas\n",
    "\n",
    "none\n",
    "NaN  is not a number (floating point value--not a float!)\n",
    "nat is another one (look up others)\n",
    "\n",
    "when reading a csv, adding r before the path for the fil (inside the parentheses), can prevent the backslash error issue\n",
    "\n",
    ".to_string makes the data spread across the output like a spreadsheet left to right rather than the stacked column chunks so it's easy to scroll right and left and see the full width of a dataframe (sometimes rows will still be truncated because of the amount of records included overall)\n",
    "\n",
    "If you're going to reassign the index to a column, it must be of unique values--otherwise, default index is zero-based indexing\n",
    "\n",
    "Best Practice: \n",
    "naming dataframes doesn't have a best practice (be specific if you need to)\n",
    "creating a new dataframe as you delete and replace data allows you to see different versions rather than replacing the original dataframe with the new \n",
    "\n",
    "Always think about: impact vs total\n",
    "--percent of total when you make a change (i.e. what is the percentage of rows that are deleted/dropped from the total if you drop entire rows)\n",
    "---make sure you understand the business issue--is this being reported in agreegate? if so, losing a small percentage might be ok, but if you are supposed to be analyzing and reporting on a specific return of records, be aware of how you deal with the null values \n",
    "\n"
   ]
  },
  {
   "cell_type": "code",
   "execution_count": null,
   "id": "fc2f6dfa-e80e-4f24-b3f6-a3c8da11946f",
   "metadata": {},
   "outputs": [],
   "source": []
  },
  {
   "cell_type": "markdown",
   "id": "e12e860d-72ef-4f20-bcb3-5cc134e15769",
   "metadata": {},
   "source": [
    "To Do (Future):\n",
    "Organize resources to continue practicing data analytics\n",
    "bookmark tutorials\n",
    "follow on youtube\n",
    "find some stuff to follow on LinkedIn\n",
    "find Angela Conner at Caleris (shoe company!) and other LaunchCode people on LinkedIn and connect\n",
    "invstigate some certifications of some skills-excel, sql, python, tableau\n",
    "\n",
    "\n",
    "To do (on my dataset for graded assignment):\n",
    "-run the exploratory functions first before you start cleaning! identify data types, etc. \n"
   ]
  }
 ],
 "metadata": {
  "kernelspec": {
   "display_name": "Python 3 (ipykernel)",
   "language": "python",
   "name": "python3"
  },
  "language_info": {
   "codemirror_mode": {
    "name": "ipython",
    "version": 3
   },
   "file_extension": ".py",
   "mimetype": "text/x-python",
   "name": "python",
   "nbconvert_exporter": "python",
   "pygments_lexer": "ipython3",
   "version": "3.12.5"
  }
 },
 "nbformat": 4,
 "nbformat_minor": 5
}
